{
  "nbformat": 4,
  "nbformat_minor": 0,
  "metadata": {
    "colab": {
      "provenance": [],
      "authorship_tag": "ABX9TyO+d5HAeahV9g1untX2UQtv",
      "include_colab_link": true
    },
    "kernelspec": {
      "name": "python3",
      "display_name": "Python 3"
    },
    "language_info": {
      "name": "python"
    }
  },
  "cells": [
    {
      "cell_type": "markdown",
      "metadata": {
        "id": "view-in-github",
        "colab_type": "text"
      },
      "source": [
        "<a href=\"https://colab.research.google.com/github/ltfy4/Freshstart/blob/master/Lists.ipynb\" target=\"_parent\"><img src=\"https://colab.research.google.com/assets/colab-badge.svg\" alt=\"Open In Colab\"/></a>"
      ]
    },
    {
      "cell_type": "code",
      "source": [
        "my_list = [1,2,3,4]"
      ],
      "metadata": {
        "id": "5L1mFe0QB2O1"
      },
      "execution_count": 3,
      "outputs": []
    },
    {
      "cell_type": "code",
      "source": [
        "my_list = [\"String\", 100, 3.2]"
      ],
      "metadata": {
        "id": "nqcYUnlZCV40"
      },
      "execution_count": 4,
      "outputs": []
    },
    {
      "cell_type": "code",
      "source": [
        "print(my_list)"
      ],
      "metadata": {
        "colab": {
          "base_uri": "https://localhost:8080/"
        },
        "id": "lTZGAKcmCmjj",
        "outputId": "0057d24d-5f31-4fbc-b97f-3d5ba2e30c6d"
      },
      "execution_count": 5,
      "outputs": [
        {
          "output_type": "stream",
          "name": "stdout",
          "text": [
            "['String', 100, 3.2]\n"
          ]
        }
      ]
    },
    {
      "cell_type": "code",
      "source": [
        "len(my_list)"
      ],
      "metadata": {
        "colab": {
          "base_uri": "https://localhost:8080/"
        },
        "id": "bFAxCzWOCrme",
        "outputId": "9ae34d0c-ec15-409c-9a36-290069d5ebfe"
      },
      "execution_count": 6,
      "outputs": [
        {
          "output_type": "execute_result",
          "data": {
            "text/plain": [
              "3"
            ]
          },
          "metadata": {},
          "execution_count": 6
        }
      ]
    },
    {
      "cell_type": "code",
      "source": [
        "my_list = [\"one\", \"two\", \"three\"]"
      ],
      "metadata": {
        "id": "YCxMOGYtCxCT"
      },
      "execution_count": 7,
      "outputs": []
    },
    {
      "cell_type": "code",
      "source": [
        "my_list[1:] # my_list[1] you can write index number only or index to start from"
      ],
      "metadata": {
        "colab": {
          "base_uri": "https://localhost:8080/"
        },
        "id": "ivyWi7-aC2O7",
        "outputId": "63d5ba88-20d8-4040-d235-3f3df2619bc4"
      },
      "execution_count": 30,
      "outputs": [
        {
          "output_type": "execute_result",
          "data": {
            "text/plain": [
              "['two', 'three']"
            ]
          },
          "metadata": {},
          "execution_count": 30
        }
      ]
    },
    {
      "cell_type": "code",
      "source": [
        "new_list = [\"four\",\"five\"]"
      ],
      "metadata": {
        "id": "T-lPgO8OC-ja"
      },
      "execution_count": 9,
      "outputs": []
    },
    {
      "cell_type": "code",
      "source": [
        "conc_list = my_list + new_list"
      ],
      "metadata": {
        "id": "LO9VCgO9DDxz"
      },
      "execution_count": 10,
      "outputs": []
    },
    {
      "cell_type": "code",
      "source": [
        "conc_list"
      ],
      "metadata": {
        "colab": {
          "base_uri": "https://localhost:8080/"
        },
        "id": "sntQ3yvZDJr-",
        "outputId": "2e9f4147-a40e-4f9d-abf7-15c6bcdcf7c6"
      },
      "execution_count": 11,
      "outputs": [
        {
          "output_type": "execute_result",
          "data": {
            "text/plain": [
              "['one', 'two', 'three', 'four', 'five']"
            ]
          },
          "metadata": {},
          "execution_count": 11
        }
      ]
    },
    {
      "cell_type": "markdown",
      "source": [
        "--> We can change the list item\n",
        "\n"
      ],
      "metadata": {
        "id": "w81z_70vDgvh"
      }
    },
    {
      "cell_type": "code",
      "source": [
        "new_list[0] = \"Changed value\""
      ],
      "metadata": {
        "id": "cVesYZ5bDUP2"
      },
      "execution_count": 12,
      "outputs": []
    },
    {
      "cell_type": "code",
      "source": [
        "new_list"
      ],
      "metadata": {
        "colab": {
          "base_uri": "https://localhost:8080/"
        },
        "id": "FKuRCaKuEAVZ",
        "outputId": "9797d8bd-9151-462f-ff64-314097c03ff9"
      },
      "execution_count": 13,
      "outputs": [
        {
          "output_type": "execute_result",
          "data": {
            "text/plain": [
              "['Changed value', 'five']"
            ]
          },
          "metadata": {},
          "execution_count": 13
        }
      ]
    },
    {
      "cell_type": "markdown",
      "source": [
        "New element can be added to the list list_name.--> hit tab here"
      ],
      "metadata": {
        "id": "vcDzsya7ELz2"
      }
    },
    {
      "cell_type": "code",
      "source": [
        "conc_list.append(\"seven\") #append add new item to the end of a list"
      ],
      "metadata": {
        "id": "nat7fAseELeE"
      },
      "execution_count": 14,
      "outputs": []
    },
    {
      "cell_type": "code",
      "source": [
        "conc_list"
      ],
      "metadata": {
        "colab": {
          "base_uri": "https://localhost:8080/"
        },
        "id": "NoKWZzKhEwsB",
        "outputId": "bee02ce0-fd8b-421a-ca4f-b8e408320353"
      },
      "execution_count": 15,
      "outputs": [
        {
          "output_type": "execute_result",
          "data": {
            "text/plain": [
              "['one', 'two', 'three', 'four', 'five', 'seven']"
            ]
          },
          "metadata": {},
          "execution_count": 15
        }
      ]
    },
    {
      "cell_type": "markdown",
      "source": [
        "pop extension will show the last item in the list. In these methods we need to put open paranthesis at the end (). "
      ],
      "metadata": {
        "id": "Ar9hMPj167jq"
      }
    },
    {
      "cell_type": "code",
      "source": [
        "conc_list.pop()"
      ],
      "metadata": {
        "colab": {
          "base_uri": "https://localhost:8080/",
          "height": 35
        },
        "id": "GR9yOe2BFAWx",
        "outputId": "61a28a8f-24a0-4707-e6fa-847ee257b1fd"
      },
      "execution_count": 16,
      "outputs": [
        {
          "output_type": "execute_result",
          "data": {
            "text/plain": [
              "'seven'"
            ],
            "application/vnd.google.colaboratory.intrinsic+json": {
              "type": "string"
            }
          },
          "metadata": {},
          "execution_count": 16
        }
      ]
    },
    {
      "cell_type": "code",
      "source": [
        "conc_list  #we don't have seven in the new list"
      ],
      "metadata": {
        "colab": {
          "base_uri": "https://localhost:8080/"
        },
        "id": "tz9kMKJr7u5U",
        "outputId": "c49bd503-c198-4818-dd41-25041f8bbb7b"
      },
      "execution_count": 17,
      "outputs": [
        {
          "output_type": "execute_result",
          "data": {
            "text/plain": [
              "['one', 'two', 'three', 'four', 'five']"
            ]
          },
          "metadata": {},
          "execution_count": 17
        }
      ]
    },
    {
      "cell_type": "code",
      "source": [
        "popped_item = conc_list.pop()  # we can save the popped item"
      ],
      "metadata": {
        "id": "N_X5cGnM76oa"
      },
      "execution_count": 18,
      "outputs": []
    },
    {
      "cell_type": "code",
      "source": [
        "conc_list.pop(0)"
      ],
      "metadata": {
        "colab": {
          "base_uri": "https://localhost:8080/",
          "height": 35
        },
        "id": "EaMo-WCL8Px7",
        "outputId": "a5a4bd44-8d08-43cf-a91e-3b949fdc1fab"
      },
      "execution_count": 19,
      "outputs": [
        {
          "output_type": "execute_result",
          "data": {
            "text/plain": [
              "'one'"
            ],
            "application/vnd.google.colaboratory.intrinsic+json": {
              "type": "string"
            }
          },
          "metadata": {},
          "execution_count": 19
        }
      ]
    },
    {
      "cell_type": "markdown",
      "source": [
        "We can sort the list item with sort method"
      ],
      "metadata": {
        "id": "_BTwagZP8pjm"
      }
    },
    {
      "cell_type": "code",
      "source": [
        "new_list = ['a','e','x','w','b','f']\n",
        "num_list = [1,7,8,9,20]"
      ],
      "metadata": {
        "id": "Sk9U5XI_8kP1"
      },
      "execution_count": 20,
      "outputs": []
    },
    {
      "cell_type": "code",
      "source": [
        "new_list.sort() #occurs in place and it does not give you anything to assign "
      ],
      "metadata": {
        "id": "Ex3ZdfvK9BkK"
      },
      "execution_count": 21,
      "outputs": []
    },
    {
      "cell_type": "code",
      "source": [
        "new_list"
      ],
      "metadata": {
        "colab": {
          "base_uri": "https://localhost:8080/"
        },
        "id": "eIttEUfB9GAI",
        "outputId": "6c2f5a77-66c0-4916-e2fb-c8bee6c32c2a"
      },
      "execution_count": 22,
      "outputs": [
        {
          "output_type": "execute_result",
          "data": {
            "text/plain": [
              "['a', 'b', 'e', 'f', 'w', 'x']"
            ]
          },
          "metadata": {},
          "execution_count": 22
        }
      ]
    },
    {
      "cell_type": "markdown",
      "source": [
        "Sorted list new_list.sort() occurs in place and it does not give you anything to assign "
      ],
      "metadata": {
        "id": "iZwlGCaV9SnX"
      }
    },
    {
      "cell_type": "code",
      "source": [
        "my_sorted_list = new_list.sort()"
      ],
      "metadata": {
        "id": "cSI3GBVfFV4k"
      },
      "execution_count": 25,
      "outputs": []
    },
    {
      "cell_type": "code",
      "source": [
        "type(my_sorted_list)"
      ],
      "metadata": {
        "colab": {
          "base_uri": "https://localhost:8080/"
        },
        "id": "rjo10LBEFpNo",
        "outputId": "5baf9086-5845-41c8-ad4e-2fc13db44c1f"
      },
      "execution_count": 26,
      "outputs": [
        {
          "output_type": "execute_result",
          "data": {
            "text/plain": [
              "NoneType"
            ]
          },
          "metadata": {},
          "execution_count": 26
        }
      ]
    },
    {
      "cell_type": "markdown",
      "source": [
        "There is a Non value in python which usually used for space too"
      ],
      "metadata": {
        "id": "PxJyqI56G1aP"
      }
    },
    {
      "cell_type": "code",
      "source": [
        "my_sorted_list = new_list\n",
        "new_list"
      ],
      "metadata": {
        "colab": {
          "base_uri": "https://localhost:8080/"
        },
        "id": "Re1apx-FG7AU",
        "outputId": "932de1e4-201e-4b62-debc-0761140be7b7"
      },
      "execution_count": 28,
      "outputs": [
        {
          "output_type": "execute_result",
          "data": {
            "text/plain": [
              "['a', 'b', 'e', 'f', 'w', 'x']"
            ]
          },
          "metadata": {},
          "execution_count": 28
        }
      ]
    },
    {
      "cell_type": "code",
      "source": [
        "num_list.sort()\n",
        "num_list"
      ],
      "metadata": {
        "colab": {
          "base_uri": "https://localhost:8080/"
        },
        "id": "6mcvj9GBHMI-",
        "outputId": "ed176d77-0cd4-4da0-8fba-2cb13b0a9b9e"
      },
      "execution_count": 29,
      "outputs": [
        {
          "output_type": "execute_result",
          "data": {
            "text/plain": [
              "[1, 7, 8, 9, 20]"
            ]
          },
          "metadata": {},
          "execution_count": 29
        }
      ]
    },
    {
      "cell_type": "markdown",
      "source": [
        "**index a nested** list? For example if I want to grab 2 from [1,1,[1,2]]. You would just add another set of brackets for indexing the nested list, for example: my_list[2][1] . "
      ],
      "metadata": {
        "id": "mc5PRCIUIHxe"
      }
    },
    {
      "cell_type": "code",
      "source": [],
      "metadata": {
        "id": "p87Z8zE4HQGe"
      },
      "execution_count": null,
      "outputs": []
    },
    {
      "cell_type": "markdown",
      "source": [],
      "metadata": {
        "id": "k7hxMcvjFhe1"
      }
    }
  ]
}