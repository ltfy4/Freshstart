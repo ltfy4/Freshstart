{
  "nbformat": 4,
  "nbformat_minor": 0,
  "metadata": {
    "colab": {
      "provenance": [],
      "authorship_tag": "ABX9TyOGXJsDuzmuvh52myPdBf+L",
      "include_colab_link": true
    },
    "kernelspec": {
      "name": "python3",
      "display_name": "Python 3"
    },
    "language_info": {
      "name": "python"
    }
  },
  "cells": [
    {
      "cell_type": "markdown",
      "metadata": {
        "id": "view-in-github",
        "colab_type": "text"
      },
      "source": [
        "<a href=\"https://colab.research.google.com/github/ltfy4/Freshstart/blob/master/Dictionaries.ipynb\" target=\"_parent\"><img src=\"https://colab.research.google.com/assets/colab-badge.svg\" alt=\"Open In Colab\"/></a>"
      ]
    },
    {
      "cell_type": "markdown",
      "source": [
        "Dictionaries {'key1':'value1','key2':'value2'}\n",
        "Dictionaries vs Lists : \n",
        "\n",
        "*   Dictionaries objects retrieves by a key name. Unordered and cannot be sorted. Good to use when you do not know exact index location of value\n",
        "key should be string!\n",
        "*   Lists objects retrieved by location. Ordered sequenced can be indexed or sliced. \n",
        "\n",
        "\n",
        "                      "
      ],
      "metadata": {
        "id": "NrJgtbPjdKNk"
      }
    },
    {
      "cell_type": "code",
      "execution_count": 1,
      "metadata": {
        "colab": {
          "base_uri": "https://localhost:8080/"
        },
        "id": "9yA6_F7CJClR",
        "outputId": "0be14462-336b-4802-e275-e6207769dd3f"
      },
      "outputs": [
        {
          "output_type": "execute_result",
          "data": {
            "text/plain": [
              "{'apple': 3, 'oranges': 4, 'tomatoes': 6}"
            ]
          },
          "metadata": {},
          "execution_count": 1
        }
      ],
      "source": [
        "prices_lookup = {'apple':3, 'oranges':4, 'tomatoes': 6}\n",
        "prices_lookup"
      ]
    },
    {
      "cell_type": "code",
      "source": [
        "prices_lookup['apple']"
      ],
      "metadata": {
        "colab": {
          "base_uri": "https://localhost:8080/"
        },
        "id": "NHLbJ7vMgcYk",
        "outputId": "c4073a0a-52f1-4188-dc7a-30d0df20002d"
      },
      "execution_count": 3,
      "outputs": [
        {
          "output_type": "execute_result",
          "data": {
            "text/plain": [
              "3"
            ]
          },
          "metadata": {},
          "execution_count": 3
        }
      ]
    },
    {
      "cell_type": "markdown",
      "source": [
        "Dictionaries can have lists and dictionaries inside"
      ],
      "metadata": {
        "id": "MjJt6iMdhAaH"
      }
    },
    {
      "cell_type": "code",
      "source": [
        "new_dictionary = {'k1':345, 'k2':[1,2,3],'k3':{'newk1':5,'newk2':['a','b','c']}}\n",
        "new_dictionary['k2']"
      ],
      "metadata": {
        "colab": {
          "base_uri": "https://localhost:8080/"
        },
        "id": "5moRhPjYhF2x",
        "outputId": "0649ea71-8da4-41bc-d777-4ea18f17dd85"
      },
      "execution_count": 17,
      "outputs": [
        {
          "output_type": "execute_result",
          "data": {
            "text/plain": [
              "[1, 2, 3]"
            ]
          },
          "metadata": {},
          "execution_count": 17
        }
      ]
    },
    {
      "cell_type": "code",
      "source": [
        "new_dictionary['k3']['newk1']"
      ],
      "metadata": {
        "colab": {
          "base_uri": "https://localhost:8080/"
        },
        "id": "3icpyNpyhqr_",
        "outputId": "2c6cf5b1-745c-4ab4-991e-ff09463f5d58"
      },
      "execution_count": 12,
      "outputs": [
        {
          "output_type": "execute_result",
          "data": {
            "text/plain": [
              "5"
            ]
          },
          "metadata": {},
          "execution_count": 12
        }
      ]
    },
    {
      "cell_type": "code",
      "source": [
        "my_list = new_dictionary['k3']['newk2']\n",
        "letter = my_list[2]\n",
        "letter.upper()"
      ],
      "metadata": {
        "colab": {
          "base_uri": "https://localhost:8080/",
          "height": 35
        },
        "id": "w5OGMhowiLz2",
        "outputId": "2004774b-5371-4e22-b3ae-dd8d78b1bfa5"
      },
      "execution_count": 20,
      "outputs": [
        {
          "output_type": "execute_result",
          "data": {
            "text/plain": [
              "'C'"
            ],
            "application/vnd.google.colaboratory.intrinsic+json": {
              "type": "string"
            }
          },
          "metadata": {},
          "execution_count": 20
        }
      ]
    },
    {
      "cell_type": "code",
      "source": [
        "new_dictionary['k3']['newk2'][1].upper()"
      ],
      "metadata": {
        "colab": {
          "base_uri": "https://localhost:8080/",
          "height": 35
        },
        "id": "N5pVpHh0i6gb",
        "outputId": "c58697d5-119a-4bc9-e7f6-1b9adf7db92c"
      },
      "execution_count": 22,
      "outputs": [
        {
          "output_type": "execute_result",
          "data": {
            "text/plain": [
              "'B'"
            ],
            "application/vnd.google.colaboratory.intrinsic+json": {
              "type": "string"
            }
          },
          "metadata": {},
          "execution_count": 22
        }
      ]
    },
    {
      "cell_type": "code",
      "source": [
        "my_list[2].upper()"
      ],
      "metadata": {
        "colab": {
          "base_uri": "https://localhost:8080/",
          "height": 35
        },
        "id": "Gk7Ab8MxiyMZ",
        "outputId": "077c7484-dfdb-4609-dbe7-98d2524dee45"
      },
      "execution_count": 21,
      "outputs": [
        {
          "output_type": "execute_result",
          "data": {
            "text/plain": [
              "'C'"
            ],
            "application/vnd.google.colaboratory.intrinsic+json": {
              "type": "string"
            }
          },
          "metadata": {},
          "execution_count": 21
        }
      ]
    },
    {
      "cell_type": "markdown",
      "source": [
        "Assigning a new value to a dictionary"
      ],
      "metadata": {
        "id": "3vrdp6PmjWGr"
      }
    },
    {
      "cell_type": "code",
      "source": [
        "d = {'k1':100, 'k2':200}\n",
        "d"
      ],
      "metadata": {
        "colab": {
          "base_uri": "https://localhost:8080/"
        },
        "id": "DYyZv6E7jaVT",
        "outputId": "78aa99ae-2267-4ef6-99c4-94de0086446f"
      },
      "execution_count": 24,
      "outputs": [
        {
          "output_type": "execute_result",
          "data": {
            "text/plain": [
              "{'k1': 100, 'k2': 200}"
            ]
          },
          "metadata": {},
          "execution_count": 24
        }
      ]
    },
    {
      "cell_type": "code",
      "source": [
        "d['k3'] = 500\n",
        "d"
      ],
      "metadata": {
        "colab": {
          "base_uri": "https://localhost:8080/"
        },
        "id": "Dk3vVzXAjk_r",
        "outputId": "26f48dd2-adcc-4bac-ba37-327d54ad6324"
      },
      "execution_count": 27,
      "outputs": [
        {
          "output_type": "execute_result",
          "data": {
            "text/plain": [
              "{'k1': 100, 'k2': 200, 'k3': 500}"
            ]
          },
          "metadata": {},
          "execution_count": 27
        }
      ]
    },
    {
      "cell_type": "code",
      "source": [
        "d['k1'] = 300\n",
        "d"
      ],
      "metadata": {
        "colab": {
          "base_uri": "https://localhost:8080/"
        },
        "id": "O89FBqdtjzHK",
        "outputId": "21db200d-a581-4066-9e45-b406cea1b513"
      },
      "execution_count": 28,
      "outputs": [
        {
          "output_type": "execute_result",
          "data": {
            "text/plain": [
              "{'k1': 300, 'k2': 200, 'k3': 500}"
            ]
          },
          "metadata": {},
          "execution_count": 28
        }
      ]
    },
    {
      "cell_type": "code",
      "source": [
        "d.keys()"
      ],
      "metadata": {
        "colab": {
          "base_uri": "https://localhost:8080/"
        },
        "id": "D-pRS-Vzj8KX",
        "outputId": "bf6f81dc-07fa-4e3b-857c-5cd11ae4a481"
      },
      "execution_count": 30,
      "outputs": [
        {
          "output_type": "execute_result",
          "data": {
            "text/plain": [
              "dict_keys(['k1', 'k2', 'k3'])"
            ]
          },
          "metadata": {},
          "execution_count": 30
        }
      ]
    },
    {
      "cell_type": "code",
      "source": [
        "d.values()"
      ],
      "metadata": {
        "colab": {
          "base_uri": "https://localhost:8080/"
        },
        "id": "_wRmhKWEkCM-",
        "outputId": "dc27a6f2-6189-4c88-eb7b-3b71ade36fec"
      },
      "execution_count": 31,
      "outputs": [
        {
          "output_type": "execute_result",
          "data": {
            "text/plain": [
              "dict_values([300, 200, 500])"
            ]
          },
          "metadata": {},
          "execution_count": 31
        }
      ]
    },
    {
      "cell_type": "code",
      "source": [
        "d.items()"
      ],
      "metadata": {
        "colab": {
          "base_uri": "https://localhost:8080/"
        },
        "id": "zaZbA93ZkGNl",
        "outputId": "7464d681-8618-4ad1-c2ad-45b9dc1f8ae9"
      },
      "execution_count": 32,
      "outputs": [
        {
          "output_type": "execute_result",
          "data": {
            "text/plain": [
              "dict_items([('k1', 300), ('k2', 200), ('k3', 500)])"
            ]
          },
          "metadata": {},
          "execution_count": 32
        }
      ]
    }
  ]
}