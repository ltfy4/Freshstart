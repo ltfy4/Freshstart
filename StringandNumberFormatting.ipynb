{
  "nbformat": 4,
  "nbformat_minor": 0,
  "metadata": {
    "colab": {
      "provenance": [],
      "collapsed_sections": [],
      "authorship_tag": "ABX9TyMZCzrX8W4x1o3VC6PTd5eI",
      "include_colab_link": true
    },
    "kernelspec": {
      "name": "python3",
      "display_name": "Python 3"
    },
    "language_info": {
      "name": "python"
    }
  },
  "cells": [
    {
      "cell_type": "markdown",
      "metadata": {
        "id": "view-in-github",
        "colab_type": "text"
      },
      "source": [
        "<a href=\"https://colab.research.google.com/github/ltfy4/Freshstart/blob/master/StringandNumberFormatting.ipynb\" target=\"_parent\"><img src=\"https://colab.research.google.com/assets/colab-badge.svg\" alt=\"Open In Colab\"/></a>"
      ]
    },
    {
      "cell_type": "code",
      "source": [
        "print(\"I like {1},{2},{0}\".format(\"apple\",\"orange\",\"banana\"))"
      ],
      "metadata": {
        "colab": {
          "base_uri": "https://localhost:8080/"
        },
        "id": "ZadpN1_k_TG_",
        "outputId": "f9a72159-5fd0-43c2-aa23-7edabda32135"
      },
      "execution_count": 1,
      "outputs": [
        {
          "output_type": "stream",
          "name": "stdout",
          "text": [
            "I like orange,banana,apple\n"
          ]
        }
      ]
    },
    {
      "cell_type": "code",
      "execution_count": null,
      "metadata": {
        "id": "pI5IeWgT4U2Q"
      },
      "outputs": [],
      "source": [
        "result = 100/777"
      ]
    },
    {
      "cell_type": "markdown",
      "source": [
        "float formatting follows \"**{value:width.precision f}**\"  \n",
        "\n",
        "width --> is how much space you want between string and value\n",
        "I tried without f and it works as well"
      ],
      "metadata": {
        "id": "HwqbKzQd8KR4"
      }
    },
    {
      "cell_type": "code",
      "source": [
        "print(\"The result was {r:1.3f}\".format(r=result))"
      ],
      "metadata": {
        "colab": {
          "base_uri": "https://localhost:8080/"
        },
        "id": "miabfHU-4kKM",
        "outputId": "641f16ce-32f4-4a96-8134-bfdd95a09dcb"
      },
      "execution_count": null,
      "outputs": [
        {
          "output_type": "stream",
          "name": "stdout",
          "text": [
            "The result was 0.129\n"
          ]
        }
      ]
    },
    {
      "cell_type": "code",
      "source": [
        "name = \"Lutfiye\""
      ],
      "metadata": {
        "id": "86iXiaIW9QS2"
      },
      "execution_count": null,
      "outputs": []
    },
    {
      "cell_type": "code",
      "source": [
        "print(f\"My name is {name}\")"
      ],
      "metadata": {
        "colab": {
          "base_uri": "https://localhost:8080/"
        },
        "id": "i6Cc2p8q9TR4",
        "outputId": "397142e3-643f-4252-85b7-5cbf6e279536"
      },
      "execution_count": null,
      "outputs": [
        {
          "output_type": "stream",
          "name": "stdout",
          "text": [
            "My name is Lutfiye\n"
          ]
        }
      ]
    },
    {
      "cell_type": "code",
      "source": [
        "name = \"Ali\"\n",
        "age = 5"
      ],
      "metadata": {
        "id": "7JFDIU0O9kuw"
      },
      "execution_count": null,
      "outputs": []
    },
    {
      "cell_type": "code",
      "source": [
        "print(f\"{name} is {age} years old.\")"
      ],
      "metadata": {
        "colab": {
          "base_uri": "https://localhost:8080/"
        },
        "id": "vATIXou49rOL",
        "outputId": "52a97aba-576d-4332-d2e4-0ff5033bc797"
      },
      "execution_count": null,
      "outputs": [
        {
          "output_type": "stream",
          "name": "stdout",
          "text": [
            "Ali is 5 years old.\n"
          ]
        }
      ]
    }
  ]
}